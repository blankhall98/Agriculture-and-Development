{
 "cells": [
  {
   "cell_type": "markdown",
   "metadata": {},
   "source": [
    "### Agriculture and Development: Data Reading and Analysis"
   ]
  },
  {
   "cell_type": "markdown",
   "metadata": {},
   "source": [
    "##### Libraries"
   ]
  },
  {
   "cell_type": "code",
   "execution_count": 1,
   "metadata": {},
   "outputs": [],
   "source": [
    "import pandas as pd\n",
    "import matplotlib.pyplot as plt\n",
    "import numpy as np"
   ]
  },
  {
   "cell_type": "markdown",
   "metadata": {},
   "source": [
    "##### Routes"
   ]
  },
  {
   "cell_type": "code",
   "execution_count": 93,
   "metadata": {},
   "outputs": [],
   "source": [
    "routes = {\n",
    "    'data': '../data/',\n",
    "    'files': {\n",
    "        'Agricultural Share of GDP': 'agriculture_share_gdp/values.csv',\n",
    "        'GDP per capita': 'gdp_pc/values.csv',\n",
    "        'GDP per capita PPP (2017)': 'gdp_pc_ppp/values.csv'\n",
    "    }\n",
    "}"
   ]
  },
  {
   "cell_type": "code",
   "execution_count": 6,
   "metadata": {},
   "outputs": [],
   "source": [
    "def get_route(filename):\n",
    "    if filename in routes['files'].keys():\n",
    "        route = routes['data']+routes['files'][filename]\n",
    "        return route\n",
    "    else:\n",
    "        return np.nan"
   ]
  },
  {
   "cell_type": "markdown",
   "metadata": {},
   "source": [
    "##### Base Reading"
   ]
  },
  {
   "cell_type": "markdown",
   "metadata": {},
   "source": [
    "1. Agriculture, forestry, and fishing, value added (% of GDP)\n",
    "\n",
    "Source: https://data.worldbank.org/indicator/NV.AGR.TOTL.ZS?end=2022&start=1960&view=map\n",
    "\n",
    "2. GDP per capita (current US$)\n",
    "\n",
    "Source: https://data.worldbank.org/indicator/NY.GDP.PCAP.CD\n",
    "\n",
    "3. GDP per capita, PPP (constant 2017 international $)\n",
    "\n",
    "Source: https://data.worldbank.org/indicator/NY.GDP.PCAP.PP.KD"
   ]
  },
  {
   "cell_type": "code",
   "execution_count": 95,
   "metadata": {},
   "outputs": [],
   "source": [
    "#Extract the relevant data\n",
    "agriculture_gdp = pd.read_csv(get_route('Agricultural Share of GDP'))\n",
    "gdp_pc = pd.read_csv(get_route('GDP per capita'))\n",
    "gdp_pc_ppp = pd.read_csv(get_route('GDP per capita'))"
   ]
  },
  {
   "cell_type": "code",
   "execution_count": 96,
   "metadata": {},
   "outputs": [],
   "source": [
    "#save dataframes in dictionary\n",
    "DATA = {\n",
    "    'Agricultural Share of GDP': agriculture_gdp,\n",
    "    'GDP per capita': gdp_pc,\n",
    "    'GDP per capita PPP (2017)': gdp_pc_ppp\n",
    "}"
   ]
  },
  {
   "cell_type": "code",
   "execution_count": 97,
   "metadata": {},
   "outputs": [],
   "source": [
    "#In bases from the WORLD BANK, this columns are the ones not containing year information\n",
    "non_year_columns = ['Country Name','Country Code','Indicator Name','Indicator Code','Unnamed: 67']"
   ]
  },
  {
   "cell_type": "code",
   "execution_count": 98,
   "metadata": {},
   "outputs": [],
   "source": [
    "#This function extracts the information of a region (in World Bank format) at leaves only a dataframe where\n",
    "#the index are the yearly observations\n",
    "def extract_region_data(region):\n",
    "    regional_data = {\n",
    "        'Region': region\n",
    "    }\n",
    "    for key in DATA.keys():\n",
    "        sub = DATA[key]\n",
    "        region_sub = sub[sub['Country Name'] == region]\n",
    "        # Drop non-year columns\n",
    "        region_sub = region_sub.drop(columns=non_year_columns)\n",
    "        # Transpose the data for easier plotting\n",
    "        region_sub_T = region_sub.transpose()\n",
    "        region_sub_T = region_sub_T.rename(columns={region_sub_T.columns[0]: 'Value'})\n",
    "        regional_data[key] = region_sub_T\n",
    "    return regional_data"
   ]
  },
  {
   "cell_type": "markdown",
   "metadata": {},
   "source": [
    "##### Base Analysis"
   ]
  },
  {
   "cell_type": "code",
   "execution_count": 99,
   "metadata": {},
   "outputs": [],
   "source": [
    "def plot_region_base(region,base):\n",
    "    # Plot the data\n",
    "    plt.figure(figsize=(14, 7))\n",
    "    plt.title(f\"{region['Region']}: Plot of {base} (World Bank DataBase)\")\n",
    "    plt.plot(region[base].index,region[base]['Value'],'o')\n",
    "    plt.xlabel('Year')\n",
    "    plt.xticks(rotation=90)\n",
    "    plt.ylabel(base)\n",
    "    plt.grid(True)\n",
    "    plt.show()"
   ]
  },
  {
   "cell_type": "code",
   "execution_count": 100,
   "metadata": {},
   "outputs": [],
   "source": [
    "def compare_region_bases(region,base1,base2):\n",
    "    # Plot the data\n",
    "    plt.figure(figsize=(14, 7))\n",
    "    #plt.plot(mexico['Agricultural Share of GDP'].index, mexico['Agricultural Share of GDP']['Value'], marker='o')\n",
    "    #plt.plot(mexico['GDP per capita'].index, mexico['GDP per capita']['Value'], marker='o')\n",
    "    plt.title(f\"{region['Region']}: Plot of {base1} against {base2}\")\n",
    "    plt.plot(region[base1]['Value'],region[base2]['Value'],'o')\n",
    "    plt.xlabel(base1)\n",
    "    plt.ylabel(base2)\n",
    "    plt.grid(True)\n",
    "    plt.show()"
   ]
  },
  {
   "cell_type": "markdown",
   "metadata": {},
   "source": [
    "### Practical Example"
   ]
  },
  {
   "cell_type": "code",
   "execution_count": 101,
   "metadata": {},
   "outputs": [],
   "source": [
    "country = extract_region_data('Mexico')"
   ]
  },
  {
   "cell_type": "code",
   "execution_count": 107,
   "metadata": {},
   "outputs": [
    {
     "data": {
      "image/png": "[encoded data removed]",
      "text/plain": [
       "<Figure size 1008x504 with 1 Axes>"
      ]
     },
     "metadata": {
      "needs_background": "light"
     },
     "output_type": "display_data"
    }
   ],
   "source": [
    "plot_region_base(country,'Agricultural Share of GDP')"
   ]
  },
  {
   "cell_type": "code",
   "execution_count": 106,
   "metadata": {},
   "outputs": [
    {
     "data": {
      "image/png": "[encoded data removed]",
      "text/plain": [
       "<Figure size 1008x504 with 1 Axes>"
      ]
     },
     "metadata": {
      "needs_background": "light"
     },
     "output_type": "display_data"
    }
   ],
   "source": [
    "compare_region_bases(country,'GDP per capita PPP (2017)','Agricultural Share of GDP')"
   ]
  }
 ],
 "metadata": {
  "kernelspec": {
   "display_name": "Python 3",
   "language": "python",
   "name": "python3"
  },
  "language_info": {
   "codemirror_mode": {
    "name": "ipython",
    "version": 3
   },
   "file_extension": ".py",
   "mimetype": "text/x-python",
   "name": "python",
   "nbconvert_exporter": "python",
   "pygments_lexer": "ipython3",
   "version": "3.8.5"
  }
 },
 "nbformat": 4,
 "nbformat_minor": 4
}
